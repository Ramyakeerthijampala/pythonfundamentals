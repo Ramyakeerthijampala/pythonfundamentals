{
 "cells": [
  {
   "cell_type": "code",
   "execution_count": 1,
   "id": "a6904d8b",
   "metadata": {},
   "outputs": [
    {
     "name": "stdout",
     "output_type": "stream",
     "text": [
      "Hello world\n"
     ]
    }
   ],
   "source": [
    "print(\"Hello world\")"
   ]
  },
  {
   "cell_type": "code",
   "execution_count": 3,
   "id": "f32d0d0b",
   "metadata": {},
   "outputs": [],
   "source": [
    "name1=\"kalyan\""
   ]
  },
  {
   "cell_type": "code",
   "execution_count": 4,
   "id": "e997e3e3",
   "metadata": {},
   "outputs": [
    {
     "name": "stdout",
     "output_type": "stream",
     "text": [
      "kalyan\n"
     ]
    }
   ],
   "source": [
    "print(name1)"
   ]
  },
  {
   "cell_type": "code",
   "execution_count": 5,
   "id": "4c843d6b",
   "metadata": {},
   "outputs": [],
   "source": [
    "name2=\"surya\""
   ]
  },
  {
   "cell_type": "code",
   "execution_count": 6,
   "id": "79b793ab",
   "metadata": {},
   "outputs": [
    {
     "name": "stdout",
     "output_type": "stream",
     "text": [
      "surya\n"
     ]
    }
   ],
   "source": [
    "print(name2)"
   ]
  },
  {
   "cell_type": "code",
   "execution_count": 7,
   "id": "d8e74bca",
   "metadata": {},
   "outputs": [],
   "source": [
    "name=\"\"\"Teja\"\"\""
   ]
  },
  {
   "cell_type": "code",
   "execution_count": 8,
   "id": "516b0146",
   "metadata": {},
   "outputs": [
    {
     "name": "stdout",
     "output_type": "stream",
     "text": [
      "Teja\n"
     ]
    }
   ],
   "source": [
    "print(name)"
   ]
  },
  {
   "cell_type": "code",
   "execution_count": null,
   "id": "980d6447",
   "metadata": {},
   "outputs": [],
   "source": []
  }
 ],
 "metadata": {
  "kernelspec": {
   "display_name": "Python 3",
   "language": "python",
   "name": "python3"
  },
  "language_info": {
   "codemirror_mode": {
    "name": "ipython",
    "version": 3
   },
   "file_extension": ".py",
   "mimetype": "text/x-python",
   "name": "python",
   "nbconvert_exporter": "python",
   "pygments_lexer": "ipython3",
   "version": "3.8.8"
  }
 },
 "nbformat": 4,
 "nbformat_minor": 5
}
